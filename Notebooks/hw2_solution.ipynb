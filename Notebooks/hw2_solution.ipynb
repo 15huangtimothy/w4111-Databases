{
 "cells": [
  {
   "cell_type": "code",
   "execution_count": 25,
   "metadata": {},
   "outputs": [],
   "source": [
    "import pymysql\n",
    "import pandas as pd\n",
    "\n",
    "# Connect\n",
    "def get_connection():\n",
    "    cnx = pymysql.connect(host='localhost',\n",
    "                                 user='dbuser',\n",
    "                                 password='dbuser',\n",
    "                                 db='lahman2016',\n",
    "                                 charset='utf8mb4',\n",
    "                                 cursorclass=pymysql.cursors.DictCursor)\n",
    "    return cnx\n",
    "\n",
    "\n",
    "def run_query(q, result):\n",
    "    print(\"Execution query = \\n\", q)\n",
    "\n",
    "    cnx = get_connection()\n",
    "\n",
    "    with cnx.cursor() as cursor:\n",
    "        cursor.execute(q)\n",
    "        cnx.commit()\n",
    "        cnx.close()\n",
    "\n",
    "    if (result):\n",
    "        cnx = get_connection()\n",
    "        df_mysql = pd.read_sql(q, cnx)\n",
    "        cnx.commit()\n",
    "        cnx.close()\n",
    "        return df_mysql\n",
    "    else:\n",
    "        return True\n",
    "        \n",
    "\n",
    "get_fks_q1 = \"SELECT TABLE_NAME, COLUMN_NAME,CONSTRAINT_NAME,REFERENCED_TABLE_NAME,REFERENCED_COLUMN_NAME \"\n",
    "get_fks_q1 = get_fks_q1 + \" FROM INFORMATION_SCHEMA.KEY_COLUMN_USAGE \"\n",
    "get_fks_q1 += \"WHERE TABLE_SCHEMA = 'lahman2016' AND TABLE_NAME = '\"\n",
    "get_fks_q2 = \"' AND REFERENCED_COLUMN_NAME IS NOT NULL;\"\n",
    "\n",
    "def get_foreign_keys(table_name):\n",
    "    q = get_fks_q1 + table_name + get_fks_q2\n",
    "    print(\"Q = \", q)\n",
    "    #q = \"select * from master where nameLast='Williams'\"\n",
    "    r = run_query(q, True)\n",
    "    print(\"result =\\n\", r)\n"
   ]
  },
  {
   "cell_type": "code",
   "execution_count": 26,
   "metadata": {},
   "outputs": [
    {
     "name": "stdout",
     "output_type": "stream",
     "text": [
      "Q =  SELECT TABLE_NAME, COLUMN_NAME,CONSTRAINT_NAME,REFERENCED_TABLE_NAME,REFERENCED_COLUMN_NAME  FROM INFORMATION_SCHEMA.KEY_COLUMN_USAGE WHERE TABLE_SCHEMA = 'lahman2016' AND TABLE_NAME = 'Batting' AND REFERENCED_COLUMN_NAME IS NOT NULL;\n",
      "Execution query = \n",
      " SELECT TABLE_NAME, COLUMN_NAME,CONSTRAINT_NAME,REFERENCED_TABLE_NAME,REFERENCED_COLUMN_NAME  FROM INFORMATION_SCHEMA.KEY_COLUMN_USAGE WHERE TABLE_SCHEMA = 'lahman2016' AND TABLE_NAME = 'Batting' AND REFERENCED_COLUMN_NAME IS NOT NULL;\n",
      "result =\n",
      "   TABLE_NAME COLUMN_NAME  CONSTRAINT_NAME REFERENCED_TABLE_NAME  \\\n",
      "0    batting    playerID   batting_player                Master   \n",
      "1    batting      yearID  batting_teams_2                 teams   \n",
      "2    batting      teamID  batting_teams_2                 teams   \n",
      "\n",
      "  REFERENCED_COLUMN_NAME  \n",
      "0               playerID  \n",
      "1                 yearID  \n",
      "2                 teamID  \n"
     ]
    }
   ],
   "source": [
    "get_foreign_keys(\"Batting\")"
   ]
  },
  {
   "cell_type": "code",
   "execution_count": null,
   "metadata": {},
   "outputs": [],
   "source": []
  }
 ],
 "metadata": {
  "kernelspec": {
   "display_name": "Python 3",
   "language": "python",
   "name": "python3"
  },
  "language_info": {
   "codemirror_mode": {
    "name": "ipython",
    "version": 3
   },
   "file_extension": ".py",
   "mimetype": "text/x-python",
   "name": "python",
   "nbconvert_exporter": "python",
   "pygments_lexer": "ipython3",
   "version": "3.6.3"
  },
  "toc": {
   "nav_menu": {},
   "number_sections": true,
   "sideBar": true,
   "skip_h1_title": false,
   "title_cell": "Table of Contents",
   "title_sidebar": "Contents",
   "toc_cell": false,
   "toc_position": {},
   "toc_section_display": true,
   "toc_window_display": false
  }
 },
 "nbformat": 4,
 "nbformat_minor": 2
}
