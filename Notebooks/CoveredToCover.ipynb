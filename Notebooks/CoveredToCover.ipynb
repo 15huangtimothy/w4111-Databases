{
 "cells": [
  {
   "cell_type": "markdown",
   "metadata": {},
   "source": [
    "### Covered\n",
    "\n",
    "\n",
    "### To Cover\n",
    "\n",
    "- Database connections\n",
    "\n",
    "- Metadata $-$ UI\n",
    "    - Why a subset of columns and renaming?\n",
    "    - Why a subset of operators?\n",
    "    - Role of application and DBA\n",
    "    - Role of catalog.\n",
    "    \n",
    "- Role of DBA\n",
    "    - Predefined queries.\n",
    "    - Indexes, constraints, etc.\n",
    "    \n",
    "- SQL injection attacks.\n",
    "\n",
    "- Prepared statement\n",
    "    "
   ]
  }
 ],
 "metadata": {
  "kernelspec": {
   "display_name": "Python 3",
   "language": "python",
   "name": "python3"
  },
  "language_info": {
   "codemirror_mode": {
    "name": "ipython",
    "version": 3
   },
   "file_extension": ".py",
   "mimetype": "text/x-python",
   "name": "python",
   "nbconvert_exporter": "python",
   "pygments_lexer": "ipython3",
   "version": "3.6.3"
  },
  "toc": {
   "nav_menu": {},
   "number_sections": true,
   "sideBar": true,
   "skip_h1_title": false,
   "title_cell": "Table of Contents",
   "title_sidebar": "Contents",
   "toc_cell": false,
   "toc_position": {},
   "toc_section_display": true,
   "toc_window_display": false
  }
 },
 "nbformat": 4,
 "nbformat_minor": 2
}
