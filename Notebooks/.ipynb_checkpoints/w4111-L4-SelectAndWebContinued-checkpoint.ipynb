{
 "cells": [
  {
   "cell_type": "markdown",
   "metadata": {},
   "source": [
    "<h1 style=\"display:none;\">Test</h1>\n",
    "<h1 style=\"display:none;\">Test</h1>\n",
    "<h1 style=\"display:none;\">Test</h1>\n",
    "# Introduction to Databases: Query and Web Application Continued\n"
   ]
  },
  {
   "cell_type": "markdown",
   "metadata": {},
   "source": [
    "## Overview\n",
    "  \n",
    "- Continue building back-end application, queries and data model to support baseball application.\n",
    "\n",
    "\n",
    "- Last lecture we implemented the path /players/playerID\n",
    "\n",
    "\n",
    "- This lecture we will add support for\n",
    "  - Finding players that match search conditions.\n",
    "  - Retrieving a user defined subset of the attributes.\n",
    "  - For example,\n",
    "      - \"Return players with last name Williams and who threw left handed.\"\n",
    "      - \"I only want to see the player ID, last name, first name, throwing hand and birth year.\"\n",
    "<br><br>\n",
    "<img src=\"../images/williamsl.jpeg\" width=\"50%\">\n",
    "\n",
    "\n",
    "- We will also demonstrate the value of keys and indexes.\n",
    "          "
   ]
  },
  {
   "cell_type": "markdown",
   "metadata": {},
   "source": [
    "## Relational Theory"
   ]
  },
  {
   "cell_type": "markdown",
   "metadata": {},
   "source": [
    "### Overview\n",
    "\n",
    "Ramakrishnan and Gehrke, section 4.2\n",
    "\n",
    "- The operations on an Entity Set are:\n",
    "    - Common set operations:\n",
    "        - Union: $\\cup$\n",
    "        - Intersection: $\\cap$\n",
    "        - Difference: $-$\n",
    "    - Projection: $\\pi$\n",
    "    - Selection: $\\sigma$\n",
    "    - Cartesian Product: $\\times$\n",
    "    - Join: $\\bowtie$\n",
    "    - Rename/Alias\n",
    "    \n",
    "    \n",
    "- Projection produces a new relation that\n",
    "    - Has the some rows as the original table\n",
    "    - But only containing the requested columns/fields\n",
    "    \n",
    "    \n",
    "- Selection produces a new relation that\n",
    "    - Has the same columns as the original relation\n",
    "    - But only contains rows with column values matching a predicate.\n",
    "    \n",
    "    \n",
    "- _Adding support for the new functions requires applying projection and selection._ We need to\n",
    "    - Select the players that match the selection predicate\n",
    "    - Only return/display the rows that the user (or client application) requested.\n"
   ]
  },
  {
   "cell_type": "markdown",
   "metadata": {},
   "source": [
    "### Selection\n",
    "\n",
    "- The selection operators are: $\\lt, \\gt, =, \\ne, \\ge, \\le$\n",
    "\n",
    "\n",
    "- The selection operator is $\\sigma$\n",
    "\n",
    "\n",
    "- $\\sigma(Players)$ selects all of the rows/tuples in the player relation.\n",
    "\n",
    "\n",
    "- The predicate/condition is a \"subscript,\" e.g.\n",
    "    - $\\sigma$<sub>playerID=napolmi01</sub>$(Players)$ selects all players with _playerID=napolmi01_\n",
    "    - $\\sigma$<sub>((nameLast=Williams)$\\land(throws=L))\\lor(birthYear\\ne1914)$</sub>$(Players)$ selects all players with\n",
    "        - Last name williams who threw lefthanded\n",
    "        - Bith year now equal to 1914\n",
    "        \n",
    "        \n",
    "- This notation is a little clunky. You can think of the selection predicate being similiar to what goes in an _if()_ statement if you were looping through an array testing for a match.\n",
    "\n",
    "\n",
    "- __Note:__ We also needed $\\sigma$ to implement GET /players/< playerid >.\n",
    "    - I glossed over this fact.\n",
    "    - There is nothing special about primary (or any keys) relative to selection syntanx.\n",
    "    - _Keys have a profound impact on performance and data integrity, however._\n",
    "    "
   ]
  },
  {
   "cell_type": "markdown",
   "metadata": {},
   "source": [
    "### Projection\n",
    "\n",
    "- The projection operator is $\\pi$\n",
    "\n",
    "\n",
    "- The requested columns are subscripts on the operator, e.g. $\\pi$<sub>$nameLast,nameFirst,throws$</sub>$(Players)$ returns a table\n",
    "    - Containing the $nameLast, nameFirst, throws$ column values, in that order\n",
    "    - For all tuples in the $Players$ table."
   ]
  },
  {
   "cell_type": "markdown",
   "metadata": {},
   "source": [
    "### This is an Algebra\n",
    "\n",
    "- The operators $\\sigma$ and $\\pi$ operate on relations/tables and produce relations/tables.\n",
    "\n",
    "\n",
    "- This means that you can combine them into complex combinations just like any algebra.\n",
    "\n",
    "\n",
    "- For example\n",
    "    - T<sub>$1$</sub>$ = \\pi$<sub>$nameLast,nameFirst,throws$</sub>$($$\\sigma$<sub>((nameLast=Williams)$\\land(throws=L))\\lor(birthYear\\ne1914)$</sub>$(Players)$$)$\n",
    "    - T<sub>$2$</sub>$ = \\sigma$<sub>((nameLast=Williams)$\\land(throws=L))\\lor(birthYear\\ne1914)$</sub>$(\\pi$<sub>$nameLast,nameFirst,throws$</sub>$(Players))$\n",
    "    - Are both valid algebraic statements\n",
    "    - __And__ $T$<sub>$1$</sub>$ = T$<sub>$1$</sub> because $\\sigma$ and $\\pi$ are commutative if $\\pi$ returns all columns that $\\sigma$ tests.\n"
   ]
  },
  {
   "cell_type": "markdown",
   "metadata": {},
   "source": [
    "### Keys\n",
    "\n",
    "- \"_Data integrity_ is the maintenance of, and the assurance of the accuracy and consistency of, data over its entire life-cycle, and is a critical aspect to the design, implementation and usage of any system which stores, processes, or retrieves data.\n",
    "\n",
    "\n",
    "- _Relational (integrity) constraints_ are central to the value of relational databases.\n",
    "    - The database designer _declares (defines)_ integrity constraints.\n",
    "    - The database management system _rejects_ any _create, update_ or _delete_ operation that would result in a constraint violation.\n",
    "\n",
    "\n",
    "- _Key(s)_ is a core  _(integrity) constraint_ enforcing _data integrity._\n",
    "\n",
    "\n",
    "- Consider the following subset of the CS courses table\n",
    "\n",
    "<img src=\"../images/L4_courses.jpeg\">\n",
    "\n",
    "\n"
   ]
  },
  {
   "cell_type": "markdown",
   "metadata": {},
   "source": [
    "## SQL and Implementation"
   ]
  },
  {
   "cell_type": "markdown",
   "metadata": {},
   "source": [
    "### Overview"
   ]
  },
  {
   "cell_type": "markdown",
   "metadata": {},
   "source": [
    "### SELECT"
   ]
  },
  {
   "cell_type": "markdown",
   "metadata": {},
   "source": [
    "### Project"
   ]
  },
  {
   "cell_type": "markdown",
   "metadata": {},
   "source": [
    "### Keys and Indexes"
   ]
  },
  {
   "cell_type": "markdown",
   "metadata": {},
   "source": [
    "## Scenario I -- Implementation Continued\n"
   ]
  },
  {
   "cell_type": "markdown",
   "metadata": {},
   "source": [
    "### Query\n"
   ]
  }
 ],
 "metadata": {
  "kernelspec": {
   "display_name": "Python 3",
   "language": "python",
   "name": "python3"
  },
  "language_info": {
   "codemirror_mode": {
    "name": "ipython",
    "version": 3
   },
   "file_extension": ".py",
   "mimetype": "text/x-python",
   "name": "python",
   "nbconvert_exporter": "python",
   "pygments_lexer": "ipython3",
   "version": "3.6.3"
  },
  "toc": {
   "nav_menu": {},
   "number_sections": true,
   "sideBar": true,
   "skip_h1_title": false,
   "title_cell": "Table of Contents",
   "title_sidebar": "Contents",
   "toc_cell": false,
   "toc_position": {
    "height": "calc(100% - 180px)",
    "left": "10px",
    "top": "150px",
    "width": "286px"
   },
   "toc_section_display": true,
   "toc_window_display": false
  }
 },
 "nbformat": 4,
 "nbformat_minor": 2
}
